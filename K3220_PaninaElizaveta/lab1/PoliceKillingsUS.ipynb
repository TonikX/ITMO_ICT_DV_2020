{
 "cells": [
  {
   "cell_type": "code",
   "execution_count": 1,
   "metadata": {},
   "outputs": [],
   "source": [
    "import numpy as np\n",
    "import pandas as pd\n",
    "import matplotlib.pyplot as plt\n",
    "import seaborn as sns \n",
    "%matplotlib inline"
   ]
  },
  {
   "cell_type": "markdown",
   "metadata": {},
   "source": [
    "## Посмотрим информацию о датасете"
   ]
  },
  {
   "cell_type": "code",
   "execution_count": 3,
   "metadata": {},
   "outputs": [],
   "source": [
    "df = pd.read_csv('PoliceKillingsUS.csv', encoding= 'unicode_escape')"
   ]
  },
  {
   "cell_type": "code",
   "execution_count": 121,
   "metadata": {
    "scrolled": true
   },
   "outputs": [
    {
     "name": "stdout",
     "output_type": "stream",
     "text": [
      "<class 'pandas.core.frame.DataFrame'>\n",
      "Int64Index: 2535 entries, 0 to 2534\n",
      "Data columns (total 14 columns):\n",
      " #   Column                   Non-Null Count  Dtype  \n",
      "---  ------                   --------------  -----  \n",
      " 0   id                       2535 non-null   int64  \n",
      " 1   name                     2535 non-null   object \n",
      " 2   date                     2535 non-null   object \n",
      " 3   manner_of_death          2535 non-null   object \n",
      " 4   armed                    2526 non-null   object \n",
      " 5   age                      2458 non-null   float64\n",
      " 6   gender                   2535 non-null   object \n",
      " 7   race                     2340 non-null   object \n",
      " 8   city                     2535 non-null   object \n",
      " 9   state                    2535 non-null   object \n",
      " 10  signs_of_mental_illness  2535 non-null   bool   \n",
      " 11  threat_level             2535 non-null   object \n",
      " 12  flee                     2470 non-null   object \n",
      " 13  body_camera              2535 non-null   bool   \n",
      "dtypes: bool(2), float64(1), int64(1), object(10)\n",
      "memory usage: 227.4+ KB\n"
     ]
    }
   ],
   "source": [
    "df.info()"
   ]
  },
  {
   "cell_type": "code",
   "execution_count": 103,
   "metadata": {
    "scrolled": true
   },
   "outputs": [
    {
     "data": {
      "text/html": [
       "<div>\n",
       "<style scoped>\n",
       "    .dataframe tbody tr th:only-of-type {\n",
       "        vertical-align: middle;\n",
       "    }\n",
       "\n",
       "    .dataframe tbody tr th {\n",
       "        vertical-align: top;\n",
       "    }\n",
       "\n",
       "    .dataframe thead th {\n",
       "        text-align: right;\n",
       "    }\n",
       "</style>\n",
       "<table border=\"1\" class=\"dataframe\">\n",
       "  <thead>\n",
       "    <tr style=\"text-align: right;\">\n",
       "      <th></th>\n",
       "      <th>id</th>\n",
       "      <th>name</th>\n",
       "      <th>date</th>\n",
       "      <th>manner_of_death</th>\n",
       "      <th>armed</th>\n",
       "      <th>age</th>\n",
       "      <th>gender</th>\n",
       "      <th>race</th>\n",
       "      <th>city</th>\n",
       "      <th>state</th>\n",
       "      <th>signs_of_mental_illness</th>\n",
       "      <th>threat_level</th>\n",
       "      <th>flee</th>\n",
       "      <th>body_camera</th>\n",
       "    </tr>\n",
       "  </thead>\n",
       "  <tbody>\n",
       "    <tr>\n",
       "      <th>0</th>\n",
       "      <td>3</td>\n",
       "      <td>Tim Elliot</td>\n",
       "      <td>02/01/15</td>\n",
       "      <td>shot</td>\n",
       "      <td>gun</td>\n",
       "      <td>53.0</td>\n",
       "      <td>M</td>\n",
       "      <td>A</td>\n",
       "      <td>Shelton</td>\n",
       "      <td>WA</td>\n",
       "      <td>True</td>\n",
       "      <td>attack</td>\n",
       "      <td>Not fleeing</td>\n",
       "      <td>False</td>\n",
       "    </tr>\n",
       "    <tr>\n",
       "      <th>1</th>\n",
       "      <td>4</td>\n",
       "      <td>Lewis Lee Lembke</td>\n",
       "      <td>02/01/15</td>\n",
       "      <td>shot</td>\n",
       "      <td>gun</td>\n",
       "      <td>47.0</td>\n",
       "      <td>M</td>\n",
       "      <td>W</td>\n",
       "      <td>Aloha</td>\n",
       "      <td>OR</td>\n",
       "      <td>False</td>\n",
       "      <td>attack</td>\n",
       "      <td>Not fleeing</td>\n",
       "      <td>False</td>\n",
       "    </tr>\n",
       "    <tr>\n",
       "      <th>2</th>\n",
       "      <td>5</td>\n",
       "      <td>John Paul Quintero</td>\n",
       "      <td>03/01/15</td>\n",
       "      <td>shot and Tasered</td>\n",
       "      <td>unarmed</td>\n",
       "      <td>23.0</td>\n",
       "      <td>M</td>\n",
       "      <td>H</td>\n",
       "      <td>Wichita</td>\n",
       "      <td>KS</td>\n",
       "      <td>False</td>\n",
       "      <td>other</td>\n",
       "      <td>Not fleeing</td>\n",
       "      <td>False</td>\n",
       "    </tr>\n",
       "    <tr>\n",
       "      <th>3</th>\n",
       "      <td>8</td>\n",
       "      <td>Matthew Hoffman</td>\n",
       "      <td>04/01/15</td>\n",
       "      <td>shot</td>\n",
       "      <td>toy weapon</td>\n",
       "      <td>32.0</td>\n",
       "      <td>M</td>\n",
       "      <td>W</td>\n",
       "      <td>San Francisco</td>\n",
       "      <td>CA</td>\n",
       "      <td>True</td>\n",
       "      <td>attack</td>\n",
       "      <td>Not fleeing</td>\n",
       "      <td>False</td>\n",
       "    </tr>\n",
       "    <tr>\n",
       "      <th>4</th>\n",
       "      <td>9</td>\n",
       "      <td>Michael Rodriguez</td>\n",
       "      <td>04/01/15</td>\n",
       "      <td>shot</td>\n",
       "      <td>nail gun</td>\n",
       "      <td>39.0</td>\n",
       "      <td>M</td>\n",
       "      <td>H</td>\n",
       "      <td>Evans</td>\n",
       "      <td>CO</td>\n",
       "      <td>False</td>\n",
       "      <td>attack</td>\n",
       "      <td>Not fleeing</td>\n",
       "      <td>False</td>\n",
       "    </tr>\n",
       "    <tr>\n",
       "      <th>5</th>\n",
       "      <td>11</td>\n",
       "      <td>Kenneth Joe Brown</td>\n",
       "      <td>04/01/15</td>\n",
       "      <td>shot</td>\n",
       "      <td>gun</td>\n",
       "      <td>18.0</td>\n",
       "      <td>M</td>\n",
       "      <td>W</td>\n",
       "      <td>Guthrie</td>\n",
       "      <td>OK</td>\n",
       "      <td>False</td>\n",
       "      <td>attack</td>\n",
       "      <td>Not fleeing</td>\n",
       "      <td>False</td>\n",
       "    </tr>\n",
       "    <tr>\n",
       "      <th>6</th>\n",
       "      <td>13</td>\n",
       "      <td>Kenneth Arnold Buck</td>\n",
       "      <td>05/01/15</td>\n",
       "      <td>shot</td>\n",
       "      <td>gun</td>\n",
       "      <td>22.0</td>\n",
       "      <td>M</td>\n",
       "      <td>H</td>\n",
       "      <td>Chandler</td>\n",
       "      <td>AZ</td>\n",
       "      <td>False</td>\n",
       "      <td>attack</td>\n",
       "      <td>Car</td>\n",
       "      <td>False</td>\n",
       "    </tr>\n",
       "    <tr>\n",
       "      <th>7</th>\n",
       "      <td>15</td>\n",
       "      <td>Brock Nichols</td>\n",
       "      <td>06/01/15</td>\n",
       "      <td>shot</td>\n",
       "      <td>gun</td>\n",
       "      <td>35.0</td>\n",
       "      <td>M</td>\n",
       "      <td>W</td>\n",
       "      <td>Assaria</td>\n",
       "      <td>KS</td>\n",
       "      <td>False</td>\n",
       "      <td>attack</td>\n",
       "      <td>Not fleeing</td>\n",
       "      <td>False</td>\n",
       "    </tr>\n",
       "    <tr>\n",
       "      <th>8</th>\n",
       "      <td>16</td>\n",
       "      <td>Autumn Steele</td>\n",
       "      <td>06/01/15</td>\n",
       "      <td>shot</td>\n",
       "      <td>unarmed</td>\n",
       "      <td>34.0</td>\n",
       "      <td>F</td>\n",
       "      <td>W</td>\n",
       "      <td>Burlington</td>\n",
       "      <td>IA</td>\n",
       "      <td>False</td>\n",
       "      <td>other</td>\n",
       "      <td>Not fleeing</td>\n",
       "      <td>True</td>\n",
       "    </tr>\n",
       "    <tr>\n",
       "      <th>9</th>\n",
       "      <td>17</td>\n",
       "      <td>Leslie Sapp III</td>\n",
       "      <td>06/01/15</td>\n",
       "      <td>shot</td>\n",
       "      <td>toy weapon</td>\n",
       "      <td>47.0</td>\n",
       "      <td>M</td>\n",
       "      <td>B</td>\n",
       "      <td>Knoxville</td>\n",
       "      <td>PA</td>\n",
       "      <td>False</td>\n",
       "      <td>attack</td>\n",
       "      <td>Not fleeing</td>\n",
       "      <td>False</td>\n",
       "    </tr>\n",
       "  </tbody>\n",
       "</table>\n",
       "</div>"
      ],
      "text/plain": [
       "   id                 name      date   manner_of_death       armed   age  \\\n",
       "0   3           Tim Elliot  02/01/15              shot         gun  53.0   \n",
       "1   4     Lewis Lee Lembke  02/01/15              shot         gun  47.0   \n",
       "2   5   John Paul Quintero  03/01/15  shot and Tasered     unarmed  23.0   \n",
       "3   8      Matthew Hoffman  04/01/15              shot  toy weapon  32.0   \n",
       "4   9    Michael Rodriguez  04/01/15              shot    nail gun  39.0   \n",
       "5  11    Kenneth Joe Brown  04/01/15              shot         gun  18.0   \n",
       "6  13  Kenneth Arnold Buck  05/01/15              shot         gun  22.0   \n",
       "7  15        Brock Nichols  06/01/15              shot         gun  35.0   \n",
       "8  16        Autumn Steele  06/01/15              shot     unarmed  34.0   \n",
       "9  17      Leslie Sapp III  06/01/15              shot  toy weapon  47.0   \n",
       "\n",
       "  gender race           city state  signs_of_mental_illness threat_level  \\\n",
       "0      M    A        Shelton    WA                     True       attack   \n",
       "1      M    W          Aloha    OR                    False       attack   \n",
       "2      M    H        Wichita    KS                    False        other   \n",
       "3      M    W  San Francisco    CA                     True       attack   \n",
       "4      M    H          Evans    CO                    False       attack   \n",
       "5      M    W        Guthrie    OK                    False       attack   \n",
       "6      M    H       Chandler    AZ                    False       attack   \n",
       "7      M    W        Assaria    KS                    False       attack   \n",
       "8      F    W     Burlington    IA                    False        other   \n",
       "9      M    B      Knoxville    PA                    False       attack   \n",
       "\n",
       "          flee  body_camera  \n",
       "0  Not fleeing        False  \n",
       "1  Not fleeing        False  \n",
       "2  Not fleeing        False  \n",
       "3  Not fleeing        False  \n",
       "4  Not fleeing        False  \n",
       "5  Not fleeing        False  \n",
       "6          Car        False  \n",
       "7  Not fleeing        False  \n",
       "8  Not fleeing         True  \n",
       "9  Not fleeing        False  "
      ]
     },
     "execution_count": 103,
     "metadata": {},
     "output_type": "execute_result"
    }
   ],
   "source": [
    "df.head(10)"
   ]
  },
  {
   "cell_type": "markdown",
   "metadata": {},
   "source": [
    "## Проверим на наличие нулей"
   ]
  },
  {
   "cell_type": "code",
   "execution_count": 43,
   "metadata": {
    "scrolled": true
   },
   "outputs": [
    {
     "data": {
      "text/plain": [
       "id                           0\n",
       "name                         0\n",
       "date                         0\n",
       "manner_of_death              0\n",
       "armed                        9\n",
       "age                         77\n",
       "gender                       0\n",
       "race                       195\n",
       "city                         0\n",
       "state                        0\n",
       "signs_of_mental_illness      0\n",
       "threat_level                 0\n",
       "flee                        65\n",
       "body_camera                  0\n",
       "dtype: int64"
      ]
     },
     "execution_count": 43,
     "metadata": {},
     "output_type": "execute_result"
    }
   ],
   "source": [
    "df.isnull().sum()"
   ]
  },
  {
   "cell_type": "markdown",
   "metadata": {},
   "source": [
    " ### Есть пробелы в колонках возраста, этнической группы "
   ]
  },
  {
   "cell_type": "markdown",
   "metadata": {},
   "source": [
    "## Предположим, что большенство умерших - мужчины средних лет"
   ]
  },
  {
   "cell_type": "code",
   "execution_count": 41,
   "metadata": {},
   "outputs": [
    {
     "data": {
      "text/plain": [
       "array([[<matplotlib.axes._subplots.AxesSubplot object at 0x0EB85A50>]],\n",
       "      dtype=object)"
      ]
     },
     "execution_count": 41,
     "metadata": {},
     "output_type": "execute_result"
    },
    {
     "data": {
      "image/png": "[encoded data removed]",
      "text/plain": [
       "<Figure size 432x288 with 1 Axes>"
      ]
     },
     "metadata": {
      "needs_background": "light"
     },
     "output_type": "display_data"
    }
   ],
   "source": [
    "df.hist('age')"
   ]
  },
  {
   "cell_type": "markdown",
   "metadata": {},
   "source": [
    "### Да, больше всего погибло людей в возрасте от 20 до 30 лет"
   ]
  },
  {
   "cell_type": "code",
   "execution_count": 4,
   "metadata": {},
   "outputs": [
    {
     "data": {
      "text/plain": [
       "<matplotlib.legend.Legend at 0xde2d830>"
      ]
     },
     "execution_count": 4,
     "metadata": {},
     "output_type": "execute_result"
    },
    {
     "data": {
      "image/png": "[encoded data removed]",
      "text/plain": [
       "<Figure size 432x288 with 1 Axes>"
      ]
     },
     "metadata": {},
     "output_type": "display_data"
    }
   ],
   "source": [
    "df = pd.DataFrame(df)\n",
    "m = df.loc[df['gender'] == 'M']\n",
    "f = df.loc[df['gender'] == 'F']\n",
    "labels = [m.gender.count(), f.gender.count()]\n",
    "sizes = [m.gender.count(), f.gender.count()]\n",
    "plt.pie(sizes, labels = labels, colors = ['c', 'm'])\n",
    "plt.title ('Killings by gender', fontsize=14)\n",
    "plt.legend(['male', 'female'])"
   ]
  },
  {
   "cell_type": "markdown",
   "metadata": {},
   "source": [
    "### Мужчин убивают гораздо больше, чем женщин "
   ]
  },
  {
   "cell_type": "markdown",
   "metadata": {},
   "source": [
    "## В связи с нынешними беспорядками в США, можно предпложить, что афроамериканских ребят убивают больше"
   ]
  },
  {
   "cell_type": "code",
   "execution_count": 16,
   "metadata": {},
   "outputs": [
    {
     "data": {
      "image/png": "[encoded data removed]",
      "text/plain": [
       "<Figure size 432x288 with 1 Axes>"
      ]
     },
     "metadata": {
      "needs_background": "light"
     },
     "output_type": "display_data"
    }
   ],
   "source": [
    "B = df[(df['race'] == 'B')].count()[0]\n",
    "W = df[(df['race'] == 'W')].count()[0]\n",
    "H = df[(df['race'] == 'H')].count()[0]\n",
    "N = df[(df['race'] == 'N')].count()[0]\n",
    "A = df[(df['race'] == 'A')].count()[0]\n",
    "O = df[(df['race'] == 'O')].count()[0]\n",
    "RaceCount = [B,W, H, N, A, O]\n",
    "RaceType = ['B', 'W', 'H', 'N', 'A', 'O']\n",
    "\n",
    "plt.bar(RaceType, RaceCount)\n",
    "plt.show()"
   ]
  },
  {
   "cell_type": "markdown",
   "metadata": {},
   "source": [
    "### На графике видно, что белых убивают больше, однако, стоит обратиться к данным о соотношении населения Америки в 2015 году"
   ]
  },
  {
   "cell_type": "code",
   "execution_count": 9,
   "metadata": {},
   "outputs": [
    {
     "data": {
      "text/plain": [
       "Text(0.5, 1.0, 'Poplation by race ')"
      ]
     },
     "execution_count": 9,
     "metadata": {},
     "output_type": "execute_result"
    },
    {
     "data": {
      "image/png": "[encoded data removed]",
      "text/plain": [
       "<Figure size 360x360 with 1 Axes>"
      ]
     },
     "metadata": {},
     "output_type": "display_data"
    },
    {
     "data": {
      "image/png": "[encoded data removed]",
      "text/plain": [
       "<Figure size 360x360 with 1 Axes>"
      ]
     },
     "metadata": {},
     "output_type": "display_data"
    }
   ],
   "source": [
    "df = pd.DataFrame(df)\n",
    "Br = df.loc[df['race'] == 'B']\n",
    "Wr = df.loc[df['race'] == 'W']\n",
    "Hr = df.loc[df['race'] == 'H']\n",
    "Nr = df.loc[df['race'] == 'N']\n",
    "Ar = df.loc[df['race'] == 'A']\n",
    "Or = df.loc[df['race'] == 'O']\n",
    "\n",
    "\n",
    "labels = ['B', 'W', 'H', 'N', 'A','O']\n",
    "sizes = [Br.race.count(), Wr.race.count(), Hr.race.count(), Nr.race.count(), Ar.race.count(), Or.race.count()]\n",
    "colors = ['c', 'lightblue', 'thistle', 'indigo', 'palegreen', 'coral']\n",
    "\n",
    "\n",
    "plt.figure(figsize=(5,5))\n",
    "plt.pie(sizes, labels = labels, autopct='%.2f%%', colors=colors)\n",
    "plt.title ('Killings by race ', fontsize=14)\n",
    "#plt.legend(['B', 'W', 'H', 'N', 'A', 'O'])\n",
    "\n",
    "\n",
    "sizes2 = [13,62,17,1,5,2 ]\n",
    "labels2 = ['B', 'W', 'H', 'N', 'A', 'O']\n",
    "\n",
    "\n",
    "plt.figure(figsize=(5,5))\n",
    "plt.pie(sizes2,labels = labels2,  autopct='%.2f%%', colors=colors)\n",
    "plt.title ('Poplation by race ', fontsize=14)\n",
    "\n"
   ]
  },
  {
   "cell_type": "markdown",
   "metadata": {},
   "source": [
    "### Сравнивая две диаграммы, можно прийти к выводу о том, что афроамериканцев действительно убивают больше. Кроме того латиноамериканцы, тоже умирают от полицейских больше других групп "
   ]
  },
  {
   "cell_type": "markdown",
   "metadata": {},
   "source": [
    "## Теперь можно посмотреть, соотношение психически стабильных и нестабильных "
   ]
  },
  {
   "cell_type": "code",
   "execution_count": 12,
   "metadata": {},
   "outputs": [
    {
     "data": {
      "text/plain": [
       "<matplotlib.legend.Legend at 0xec7f110>"
      ]
     },
     "execution_count": 12,
     "metadata": {},
     "output_type": "execute_result"
    },
    {
     "data": {
      "image/png": "[encoded data removed]",
      "text/plain": [
       "<Figure size 432x288 with 1 Axes>"
      ]
     },
     "metadata": {},
     "output_type": "display_data"
    }
   ],
   "source": [
    "df = pd.DataFrame(df)\n",
    "t = df.loc[df['signs_of_mental_illness'] == True]\n",
    "f = df.loc[df['signs_of_mental_illness'] == False]\n",
    "labels = [t.signs_of_mental_illness.count(), f.signs_of_mental_illness.count()]\n",
    "sizes = [t.signs_of_mental_illness.count(), f.signs_of_mental_illness.count()]\n",
    "plt.pie(sizes, labels = labels, colors = ['c', 'm'])\n",
    "plt.title ('Mental illness', fontsize=14)\n",
    "plt.legend(['Mental problems', 'healthy'],loc=\"right\", bbox_to_anchor=(1, 0, 0.7, 1) )"
   ]
  },
  {
   "cell_type": "markdown",
   "metadata": {},
   "source": [
    "### Среди всех убитых четверть человек оказалось психически нездоровой "
   ]
  },
  {
   "cell_type": "markdown",
   "metadata": {},
   "source": [
    "## Теперь можно проверить, отличается ли у них выбор оружия"
   ]
  },
  {
   "cell_type": "code",
   "execution_count": 77,
   "metadata": {},
   "outputs": [
    {
     "data": {
      "text/plain": [
       "0              gun\n",
       "1              gun\n",
       "2          unarmed\n",
       "3       toy weapon\n",
       "4         nail gun\n",
       "           ...    \n",
       "2530           gun\n",
       "2531       vehicle\n",
       "2532           gun\n",
       "2533       vehicle\n",
       "2534         knife\n",
       "Name: armed, Length: 2535, dtype: object"
      ]
     },
     "execution_count": 77,
     "metadata": {},
     "output_type": "execute_result"
    }
   ],
   "source": [
    "df['armed']"
   ]
  },
  {
   "cell_type": "markdown",
   "metadata": {},
   "source": [
    "### В датасете оказалось очень много видов оружия, поэтому статистику можно провести по самым популярным "
   ]
  },
  {
   "cell_type": "code",
   "execution_count": 10,
   "metadata": {},
   "outputs": [
    {
     "data": {
      "text/plain": [
       "([<matplotlib.patches.Wedge at 0xb92cb30>,\n",
       "  <matplotlib.patches.Wedge at 0xb92ce50>,\n",
       "  <matplotlib.patches.Wedge at 0xb937250>,\n",
       "  <matplotlib.patches.Wedge at 0xb937650>,\n",
       "  <matplotlib.patches.Wedge at 0xb937b50>],\n",
       " [Text(0.242685987480436, 1.0728949209874403, 'gun'),\n",
       "  Text(-1.0553142854978834, 0.3103413585458631, 'unarmed'),\n",
       "  Text(-0.37674348195586776, -1.033471987430607, 'Knife'),\n",
       "  Text(1.0300087029599856, -0.3861114759064902, 'toy weapon'),\n",
       "  Text(1.0970993276902157, -0.07983147989156153, 'nail gun')],\n",
       " [Text(0.1323741749893287, 0.5852154114476947, '42.92%'),\n",
       "  Text(-0.5756259739079364, 0.16927710466137985, '5.06%'),\n",
       "  Text(-0.20549644470320058, -0.5637119931439675, '42.92%'),\n",
       "  Text(0.5618229288872648, -0.21060625958535825, '6.79%'),\n",
       "  Text(0.5984178151037539, -0.043544443577215375, '2.31%')])"
      ]
     },
     "execution_count": 10,
     "metadata": {},
     "output_type": "execute_result"
    },
    {
     "data": {
      "image/png": "[encoded data removed]",
      "text/plain": [
       "<Figure size 360x360 with 1 Axes>"
      ]
     },
     "metadata": {},
     "output_type": "display_data"
    },
    {
     "data": {
      "image/png": "[encoded data removed]",
      "text/plain": [
       "<Figure size 360x360 with 1 Axes>"
      ]
     },
     "metadata": {},
     "output_type": "display_data"
    }
   ],
   "source": [
    "G_OK = df[(df['armed'] == 'gun')&(df['signs_of_mental_illness'] == False) ]\n",
    "G_NotOK = df[(df['armed'] == 'gun')&(df['signs_of_mental_illness'] == True) ]\n",
    "K_OK = df[(df['armed'] == 'knife')&(df['signs_of_mental_illness'] == False) ]\n",
    "K_NotOK = df[(df['armed'] == 'gun')&(df['signs_of_mental_illness'] == True) ]\n",
    "N_OK = df[(df['armed'] == 'unarmed')&(df['signs_of_mental_illness'] == False) ]\n",
    "N_NotOK = df[(df['armed'] == 'unarmed')&(df['signs_of_mental_illness'] == True) ]\n",
    "Toy_OK = df[(df['armed'] == 'toy weapon')&(df['signs_of_mental_illness'] == False) ]\n",
    "Toy_NotOK = df[(df['armed'] == 'toy weapon')&(df['signs_of_mental_illness'] == True) ]\n",
    "Nail_OK =  df[(df['armed'] == 'vehicle')&(df['signs_of_mental_illness'] == False) ]\n",
    "Nail_NotOK = df[(df['armed'] == 'vehicle')&(df['signs_of_mental_illness'] == True) ]\n",
    "\n",
    "sizes = [G_OK.armed.count(), N_OK.armed.count(), K_OK.armed.count(), Toy_OK.armed.count(), Nail_OK.armed.count()]\n",
    "labels = ['gun', 'unarmed','Knife', 'toy weapon', 'nail gun']\n",
    "colors = ['c', 'lightblue', 'thistle', 'indigo', 'palegreen']\n",
    "\n",
    "sizes1 = [G_NotOK.armed.count(), N_NotOK.armed.count(), K_NotOK.armed.count(), Toy_NotOK.armed.count(), Nail_NotOK.armed.count()]\n",
    "\n",
    "\n",
    "plt.figure(figsize=(5,5))\n",
    "plt.pie(sizes , labels = labels,  autopct='%.2f%%', colors = colors)\n",
    "\n",
    "plt.title ('no mental illness and mental illnesses')\n",
    "plt.figure(figsize=(5,5))\n",
    "plt.pie(sizes1 , labels = labels,  autopct='%.2f%%', colors = colors)\n",
    "#plt.show()"
   ]
  },
  {
   "cell_type": "markdown",
   "metadata": {},
   "source": [
    "### Да, предположение подтвердилось. У них отличается выбор оружия, большинство психически здоровых выбирают ружья, а выбор психически нездоровых разделяется между ружьём и ножом"
   ]
  },
  {
   "cell_type": "markdown",
   "metadata": {},
   "source": [
    "## И в заключении, предположим, что большинство умирает от выстрела без издевательств "
   ]
  },
  {
   "cell_type": "code",
   "execution_count": 11,
   "metadata": {},
   "outputs": [
    {
     "data": {
      "image/png": "[encoded data removed]",
      "text/plain": [
       "<Figure size 432x288 with 1 Axes>"
      ]
     },
     "metadata": {
      "needs_background": "light"
     },
     "output_type": "display_data"
    }
   ],
   "source": [
    "Shot = df[(df['manner_of_death'] == 'shot')].count()[0]\n",
    "Teasered = df[(df['manner_of_death'] == 'shot and Tasered')].count()[0]\n",
    "MannerCount = [Shot, Teasered]\n",
    "MannerType = ['Shot', 'Teaserd']\n",
    "\n",
    "plt.bar(MannerType, MannerCount)\n",
    "plt.show()"
   ]
  },
  {
   "cell_type": "markdown",
   "metadata": {},
   "source": [
    "### Да, гипотеза подтвердилась. Однако, число людей, над которыми издевались полицейские не на нуле "
   ]
  },
  {
   "cell_type": "code",
   "execution_count": null,
   "metadata": {},
   "outputs": [],
   "source": []
  }
 ],
 "metadata": {
  "kernelspec": {
   "display_name": "Python 3",
   "language": "python",
   "name": "python3"
  },
  "language_info": {
   "codemirror_mode": {
    "name": "ipython",
    "version": 3
   },
   "file_extension": ".py",
   "mimetype": "text/x-python",
   "name": "python",
   "nbconvert_exporter": "python",
   "pygments_lexer": "ipython3",
   "version": "3.7.2"
  }
 },
 "nbformat": 4,
 "nbformat_minor": 4
}
