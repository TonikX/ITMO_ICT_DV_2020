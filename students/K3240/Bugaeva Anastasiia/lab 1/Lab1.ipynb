{
 "cells": [
  {
   "cell_type": "code",
   "execution_count": 1,
   "metadata": {
    "pycharm": {
     "is_executing": false,
     "name": "#%%\n"
    }
   },
   "outputs": [],
   "source": [
    "import numpy as np\n",
    "import pandas as pd\n",
    "import matplotlib as mpl\n",
    "import matplotlib.pyplot as plt\n",
    "import seaborn as sns"
   ]
  },
  {
   "cell_type": "code",
   "execution_count": 2,
   "metadata": {
    "pycharm": {
     "is_executing": false,
     "name": "#%%\n"
    }
   },
   "outputs": [
    {
     "data": {
      "text/html": [
       "<div>\n",
       "<style scoped>\n",
       "    .dataframe tbody tr th:only-of-type {\n",
       "        vertical-align: middle;\n",
       "    }\n",
       "\n",
       "    .dataframe tbody tr th {\n",
       "        vertical-align: top;\n",
       "    }\n",
       "\n",
       "    .dataframe thead th {\n",
       "        text-align: right;\n",
       "    }\n",
       "</style>\n",
       "<table border=\"1\" class=\"dataframe\">\n",
       "  <thead>\n",
       "    <tr style=\"text-align: right;\">\n",
       "      <th></th>\n",
       "      <th>CodingHours</th>\n",
       "      <th>CoffeeCupsPerDay</th>\n",
       "      <th>CoffeeTime</th>\n",
       "      <th>CodingWithoutCoffee</th>\n",
       "      <th>CoffeeType</th>\n",
       "      <th>CoffeeSolveBugs</th>\n",
       "      <th>Gender</th>\n",
       "      <th>Country</th>\n",
       "      <th>AgeRange</th>\n",
       "    </tr>\n",
       "  </thead>\n",
       "  <tbody>\n",
       "    <tr>\n",
       "      <th>0</th>\n",
       "      <td>8</td>\n",
       "      <td>2</td>\n",
       "      <td>Before coding</td>\n",
       "      <td>Yes</td>\n",
       "      <td>Caffè latte</td>\n",
       "      <td>Sometimes</td>\n",
       "      <td>Female</td>\n",
       "      <td>Lebanon</td>\n",
       "      <td>18 to 29</td>\n",
       "    </tr>\n",
       "    <tr>\n",
       "      <th>1</th>\n",
       "      <td>3</td>\n",
       "      <td>2</td>\n",
       "      <td>Before coding</td>\n",
       "      <td>Yes</td>\n",
       "      <td>Americano</td>\n",
       "      <td>Yes</td>\n",
       "      <td>Female</td>\n",
       "      <td>Lebanon</td>\n",
       "      <td>30 to 39</td>\n",
       "    </tr>\n",
       "    <tr>\n",
       "      <th>2</th>\n",
       "      <td>5</td>\n",
       "      <td>3</td>\n",
       "      <td>While coding</td>\n",
       "      <td>No</td>\n",
       "      <td>Nescafe</td>\n",
       "      <td>Yes</td>\n",
       "      <td>Female</td>\n",
       "      <td>Lebanon</td>\n",
       "      <td>18 to 29</td>\n",
       "    </tr>\n",
       "    <tr>\n",
       "      <th>3</th>\n",
       "      <td>8</td>\n",
       "      <td>2</td>\n",
       "      <td>Before coding</td>\n",
       "      <td>No</td>\n",
       "      <td>Nescafe</td>\n",
       "      <td>Yes</td>\n",
       "      <td>Male</td>\n",
       "      <td>Lebanon</td>\n",
       "      <td>NaN</td>\n",
       "    </tr>\n",
       "    <tr>\n",
       "      <th>4</th>\n",
       "      <td>10</td>\n",
       "      <td>3</td>\n",
       "      <td>While coding</td>\n",
       "      <td>Sometimes</td>\n",
       "      <td>Turkish</td>\n",
       "      <td>No</td>\n",
       "      <td>Male</td>\n",
       "      <td>Lebanon</td>\n",
       "      <td>18 to 29</td>\n",
       "    </tr>\n",
       "    <tr>\n",
       "      <th>...</th>\n",
       "      <td>...</td>\n",
       "      <td>...</td>\n",
       "      <td>...</td>\n",
       "      <td>...</td>\n",
       "      <td>...</td>\n",
       "      <td>...</td>\n",
       "      <td>...</td>\n",
       "      <td>...</td>\n",
       "      <td>...</td>\n",
       "    </tr>\n",
       "    <tr>\n",
       "      <th>95</th>\n",
       "      <td>6</td>\n",
       "      <td>2</td>\n",
       "      <td>Before coding</td>\n",
       "      <td>Yes</td>\n",
       "      <td>Nescafe</td>\n",
       "      <td>Yes</td>\n",
       "      <td>Male</td>\n",
       "      <td>Lebanon</td>\n",
       "      <td>18 to 29</td>\n",
       "    </tr>\n",
       "    <tr>\n",
       "      <th>96</th>\n",
       "      <td>4</td>\n",
       "      <td>1</td>\n",
       "      <td>Before coding</td>\n",
       "      <td>Sometimes</td>\n",
       "      <td>Nescafe</td>\n",
       "      <td>Sometimes</td>\n",
       "      <td>Female</td>\n",
       "      <td>Lebanon</td>\n",
       "      <td>18 to 29</td>\n",
       "    </tr>\n",
       "    <tr>\n",
       "      <th>97</th>\n",
       "      <td>10</td>\n",
       "      <td>3</td>\n",
       "      <td>Before coding</td>\n",
       "      <td>Yes</td>\n",
       "      <td>Cappuccino</td>\n",
       "      <td>Yes</td>\n",
       "      <td>Male</td>\n",
       "      <td>Lebanon</td>\n",
       "      <td>Under 18</td>\n",
       "    </tr>\n",
       "    <tr>\n",
       "      <th>98</th>\n",
       "      <td>2</td>\n",
       "      <td>2</td>\n",
       "      <td>While coding</td>\n",
       "      <td>Sometimes</td>\n",
       "      <td>Espresso (Short Black)</td>\n",
       "      <td>Sometimes</td>\n",
       "      <td>Female</td>\n",
       "      <td>Lebanon</td>\n",
       "      <td>18 to 29</td>\n",
       "    </tr>\n",
       "    <tr>\n",
       "      <th>99</th>\n",
       "      <td>10</td>\n",
       "      <td>4</td>\n",
       "      <td>Before coding</td>\n",
       "      <td>Sometimes</td>\n",
       "      <td>Double Espresso (Doppio)</td>\n",
       "      <td>Sometimes</td>\n",
       "      <td>Male</td>\n",
       "      <td>Lebanon</td>\n",
       "      <td>18 to 29</td>\n",
       "    </tr>\n",
       "  </tbody>\n",
       "</table>\n",
       "<p>100 rows × 9 columns</p>\n",
       "</div>"
      ],
      "text/plain": [
       "    CodingHours  CoffeeCupsPerDay     CoffeeTime CodingWithoutCoffee  \\\n",
       "0             8                 2  Before coding                 Yes   \n",
       "1             3                 2  Before coding                 Yes   \n",
       "2             5                 3   While coding                  No   \n",
       "3             8                 2  Before coding                  No   \n",
       "4            10                 3   While coding           Sometimes   \n",
       "..          ...               ...            ...                 ...   \n",
       "95            6                 2  Before coding                 Yes   \n",
       "96            4                 1  Before coding           Sometimes   \n",
       "97           10                 3  Before coding                 Yes   \n",
       "98            2                 2   While coding           Sometimes   \n",
       "99           10                 4  Before coding           Sometimes   \n",
       "\n",
       "                  CoffeeType CoffeeSolveBugs  Gender  Country  AgeRange  \n",
       "0                Caffè latte       Sometimes  Female  Lebanon  18 to 29  \n",
       "1                  Americano             Yes  Female  Lebanon  30 to 39  \n",
       "2                    Nescafe             Yes  Female  Lebanon  18 to 29  \n",
       "3                    Nescafe             Yes    Male  Lebanon       NaN  \n",
       "4                    Turkish              No    Male  Lebanon  18 to 29  \n",
       "..                       ...             ...     ...      ...       ...  \n",
       "95                   Nescafe             Yes    Male  Lebanon  18 to 29  \n",
       "96                   Nescafe       Sometimes  Female  Lebanon  18 to 29  \n",
       "97                Cappuccino             Yes    Male  Lebanon  Under 18  \n",
       "98    Espresso (Short Black)       Sometimes  Female  Lebanon  18 to 29  \n",
       "99  Double Espresso (Doppio)       Sometimes    Male  Lebanon  18 to 29  \n",
       "\n",
       "[100 rows x 9 columns]"
      ]
     },
     "execution_count": 2,
     "metadata": {},
     "output_type": "execute_result"
    }
   ],
   "source": [
    "data = pd.read_csv(\"../data/CoffeeAndCodeLT2018.csv\")\n",
    "data"
   ]
  },
  {
   "cell_type": "markdown",
   "metadata": {},
   "source": [
    "## Время кодинга напрямую зависит от количества выпитого кофе"
   ]
  },
  {
   "cell_type": "code",
   "execution_count": 3,
   "metadata": {
    "pycharm": {
     "is_executing": false,
     "name": "#%%\n"
    }
   },
   "outputs": [
    {
     "data": {
      "text/plain": [
       "<matplotlib.axes._subplots.AxesSubplot at 0x1cc67e98>"
      ]
     },
     "execution_count": 3,
     "metadata": {},
     "output_type": "execute_result"
    },
    {
     "data": {
      "image/png": "[encoded data removed]",
      "text/plain": [
       "<Figure size 432x288 with 1 Axes>"
      ]
     },
     "metadata": {
      "needs_background": "light"
     },
     "output_type": "display_data"
    }
   ],
   "source": [
    "data.groupby(['CodingWithoutCoffee']).mean().plot()"
   ]
  },
  {
   "cell_type": "markdown",
   "metadata": {
    "pycharm": {
     "is_executing": false,
     "name": "#%% md\n"
    }
   },
   "source": [
    "## Эффективность кофе в зависимости от времени его употребления"
   ]
  },
  {
   "cell_type": "code",
   "execution_count": 4,
   "metadata": {
    "pycharm": {
     "is_executing": false,
     "name": "#%%\n"
    }
   },
   "outputs": [
    {
     "data": {
      "text/plain": [
       "<matplotlib.axes._subplots.AxesSubplot at 0x1dd21a48>"
      ]
     },
     "execution_count": 4,
     "metadata": {},
     "output_type": "execute_result"
    },
    {
     "data": {
      "image/png": "[encoded data removed]",
      "text/plain": [
       "<Figure size 432x288 with 1 Axes>"
      ]
     },
     "metadata": {},
     "output_type": "display_data"
    }
   ],
   "source": [
    "data_with_kpd = data.groupby(['CoffeeTime']).mean()\n",
    "data_with_kpd['Productivity'] = data_with_kpd['CodingHours']/data_with_kpd['CoffeeCupsPerDay']\n",
    "data_with_kpd['Efficiency'] = data_with_kpd['Productivity']/data_with_kpd['Productivity'].max()\n",
    "data_with_kpd = data_with_kpd.sort_values('Efficiency', ascending=False)\n",
    "data_with_kpd['Productivity'].plot.pie()"
   ]
  },
  {
   "cell_type": "markdown",
   "metadata": {
    "pycharm": {
     "name": "#%% md\n"
    }
   },
   "source": [
    "## Эффективность кофе в зависимости от его типа"
   ]
  },
  {
   "cell_type": "code",
   "execution_count": 5,
   "metadata": {
    "pycharm": {
     "is_executing": false,
     "name": "#%%\n"
    }
   },
   "outputs": [
    {
     "data": {
      "text/plain": [
       "<matplotlib.axes._subplots.AxesSubplot at 0x1dd794d8>"
      ]
     },
     "execution_count": 5,
     "metadata": {},
     "output_type": "execute_result"
    },
    {
     "data": {
      "image/png": "[encoded data removed]",
      "text/plain": [
       "<Figure size 432x288 with 1 Axes>"
      ]
     },
     "metadata": {
      "needs_background": "light"
     },
     "output_type": "display_data"
    }
   ],
   "source": [
    "coffee_type = data.groupby(['CoffeeType']).mean()\n",
    "coffee_type['Productivity'] = coffee_type['CodingHours']/coffee_type['CoffeeCupsPerDay']\n",
    "coffee_type['Efficiency'] = coffee_type['Productivity']/coffee_type['Productivity'].max()\n",
    "coffee_type = coffee_type.sort_values('Efficiency', ascending=False)\n",
    "coffee_type['Productivity'].plot.bar()"
   ]
  },
  {
   "cell_type": "code",
   "execution_count": 6,
   "metadata": {
    "pycharm": {
     "is_executing": false,
     "name": "#%%\n"
    }
   },
   "outputs": [
    {
     "data": {
      "text/html": [
       "<div>\n",
       "<style scoped>\n",
       "    .dataframe tbody tr th:only-of-type {\n",
       "        vertical-align: middle;\n",
       "    }\n",
       "\n",
       "    .dataframe tbody tr th {\n",
       "        vertical-align: top;\n",
       "    }\n",
       "\n",
       "    .dataframe thead th {\n",
       "        text-align: right;\n",
       "    }\n",
       "</style>\n",
       "<table border=\"1\" class=\"dataframe\">\n",
       "  <thead>\n",
       "    <tr style=\"text-align: right;\">\n",
       "      <th></th>\n",
       "      <th>CodingHours</th>\n",
       "      <th>CoffeeCupsPerDay</th>\n",
       "      <th>Productivity</th>\n",
       "    </tr>\n",
       "    <tr>\n",
       "      <th>Gender</th>\n",
       "      <th></th>\n",
       "      <th></th>\n",
       "      <th></th>\n",
       "    </tr>\n",
       "  </thead>\n",
       "  <tbody>\n",
       "    <tr>\n",
       "      <th>Female</th>\n",
       "      <td>5.384615</td>\n",
       "      <td>2.269231</td>\n",
       "      <td>2.372881</td>\n",
       "    </tr>\n",
       "    <tr>\n",
       "      <th>Male</th>\n",
       "      <td>6.770270</td>\n",
       "      <td>3.108108</td>\n",
       "      <td>2.178261</td>\n",
       "    </tr>\n",
       "  </tbody>\n",
       "</table>\n",
       "</div>"
      ],
      "text/plain": [
       "        CodingHours  CoffeeCupsPerDay  Productivity\n",
       "Gender                                             \n",
       "Female     5.384615          2.269231      2.372881\n",
       "Male       6.770270          3.108108      2.178261"
      ]
     },
     "execution_count": 6,
     "metadata": {},
     "output_type": "execute_result"
    }
   ],
   "source": [
    "gender = data.groupby(['Gender']).mean()\n",
    "gender['Productivity'] = gender['CodingHours']/gender['CoffeeCupsPerDay']\n",
    "gender"
   ]
  }
 ],
 "metadata": {
  "kernelspec": {
   "display_name": "Python 3",
   "language": "python",
   "name": "python3"
  },
  "language_info": {
   "codemirror_mode": {
    "name": "ipython",
    "version": 3
   },
   "file_extension": ".py",
   "mimetype": "text/x-python",
   "name": "python",
   "nbconvert_exporter": "python",
   "pygments_lexer": "ipython3",
   "version": "3.8.2"
  },
  "pycharm": {
   "stem_cell": {
    "cell_type": "raw",
    "source": [],
    "metadata": {
     "collapsed": false
    }
   }
  }
 },
 "nbformat": 4,
 "nbformat_minor": 1
}