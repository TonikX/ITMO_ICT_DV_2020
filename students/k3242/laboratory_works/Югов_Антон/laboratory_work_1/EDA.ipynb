{
 "cells": [
  {
   "cell_type": "markdown",
   "metadata": {},
   "source": [
    "# Описательная статистика\n",
    "\n",
    "## Датасет\n",
    "\n",
    "Ссылка |\n",
    "-- |\n",
    "https://www.kaggle.com/nikdavis/steam-store-games |\n",
    "\n",
    "Столбец | Описание\n",
    "-- | --\n",
    "appid | ИД\n",
    "name | Название\n",
    "release_date | Дата релиза\n",
    "developer | Разработчики\n",
    "publisher | Издатели\n",
    "platforms | Платформы\n",
    "categories | Категории\n",
    "genres | Жанры\n",
    "positive_ratings | Кол-во положительных рейтингов\n",
    "negative_ratings | Кол-во отрицательных рейтингов\n",
    "average_playtime | Среднее время в игре\n",
    "median_playtime | Срединное время в игре\n",
    "owners | Кол-во продаж\n",
    "price | Цена (в фунтах стерлингов)"
   ]
  },
  {
   "cell_type": "code",
   "execution_count": 13,
   "metadata": {},
   "outputs": [],
   "source": [
    "import numpy as np\n",
    "import pandas as pd\n",
    "import matplotlib.pyplot as plt\n",
    "%matplotlib inline\n",
    "import seaborn as sns"
   ]
  },
  {
   "cell_type": "markdown",
   "metadata": {},
   "source": [
    "Нам пригодятся два датасета. Объединим их в один по столбцу \"appid\"."
   ]
  },
  {
   "cell_type": "code",
   "execution_count": 14,
   "metadata": {},
   "outputs": [],
   "source": [
    "df = pd.read_csv('data/steam.csv')"
   ]
  },
  {
   "cell_type": "code",
   "execution_count": 3,
   "metadata": {},
   "outputs": [
    {
     "data": {
      "text/html": [
       "<div>\n",
       "<style scoped>\n",
       "    .dataframe tbody tr th:only-of-type {\n",
       "        vertical-align: middle;\n",
       "    }\n",
       "\n",
       "    .dataframe tbody tr th {\n",
       "        vertical-align: top;\n",
       "    }\n",
       "\n",
       "    .dataframe thead th {\n",
       "        text-align: right;\n",
       "    }\n",
       "</style>\n",
       "<table border=\"1\" class=\"dataframe\">\n",
       "  <thead>\n",
       "    <tr style=\"text-align: right;\">\n",
       "      <th></th>\n",
       "      <th>release_date</th>\n",
       "      <th>developer</th>\n",
       "      <th>publisher</th>\n",
       "      <th>platforms</th>\n",
       "      <th>categories</th>\n",
       "      <th>genres</th>\n",
       "      <th>steamspy_tags</th>\n",
       "      <th>positive_ratings</th>\n",
       "      <th>negative_ratings</th>\n",
       "      <th>average_playtime</th>\n",
       "      <th>median_playtime</th>\n",
       "      <th>owners</th>\n",
       "      <th>price</th>\n",
       "    </tr>\n",
       "  </thead>\n",
       "  <tbody>\n",
       "    <tr>\n",
       "      <th>25350</th>\n",
       "      <td>2019-01-15</td>\n",
       "      <td>Microsoft Corporation</td>\n",
       "      <td>Microsoft Corporation</td>\n",
       "      <td>windows</td>\n",
       "      <td>Single-player</td>\n",
       "      <td>Casual;Free to Play</td>\n",
       "      <td>VR;Design &amp; Illustration;Beautiful</td>\n",
       "      <td>21</td>\n",
       "      <td>1</td>\n",
       "      <td>8</td>\n",
       "      <td>8</td>\n",
       "      <td>20000-50000</td>\n",
       "      <td>0.00</td>\n",
       "    </tr>\n",
       "    <tr>\n",
       "      <th>15025</th>\n",
       "      <td>2019-02-26</td>\n",
       "      <td>Andrew Higgins</td>\n",
       "      <td>Andrew Higgins</td>\n",
       "      <td>windows</td>\n",
       "      <td>Single-player;Steam Achievements;Full controll...</td>\n",
       "      <td>Indie;RPG</td>\n",
       "      <td>RPG;Indie</td>\n",
       "      <td>9</td>\n",
       "      <td>3</td>\n",
       "      <td>0</td>\n",
       "      <td>0</td>\n",
       "      <td>0-20000</td>\n",
       "      <td>3.99</td>\n",
       "    </tr>\n",
       "  </tbody>\n",
       "</table>\n",
       "</div>"
      ],
      "text/plain": [
       "      release_date              developer              publisher platforms  \\\n",
       "25350   2019-01-15  Microsoft Corporation  Microsoft Corporation   windows   \n",
       "15025   2019-02-26         Andrew Higgins         Andrew Higgins   windows   \n",
       "\n",
       "                                              categories               genres  \\\n",
       "25350                                      Single-player  Casual;Free to Play   \n",
       "15025  Single-player;Steam Achievements;Full controll...            Indie;RPG   \n",
       "\n",
       "                            steamspy_tags  positive_ratings  negative_ratings  \\\n",
       "25350  VR;Design & Illustration;Beautiful                21                 1   \n",
       "15025                           RPG;Indie                 9                 3   \n",
       "\n",
       "       average_playtime  median_playtime       owners  price  \n",
       "25350                 8                8  20000-50000   0.00  \n",
       "15025                 0                0      0-20000   3.99  "
      ]
     },
     "execution_count": 3,
     "metadata": {},
     "output_type": "execute_result"
    }
   ],
   "source": [
    "df.drop(columns=['english', 'required_age', 'achievements', 'appid', 'name'], inplace=True)\n",
    "df.sample(2)"
   ]
  },
  {
   "cell_type": "code",
   "execution_count": 4,
   "metadata": {},
   "outputs": [],
   "source": [
    "# Напишем сплющивающую функцию для работы с многозначными полями в датафрейме, вскоре нам это пригодится.\n",
    "\n",
    "import collections\n",
    "import itertools\n",
    "\n",
    "\n",
    "def flatten(column):\n",
    "    _temp = [p.split(';') for p in column]\n",
    "    return list(itertools.chain.from_iterable(_temp))"
   ]
  },
  {
   "cell_type": "code",
   "execution_count": 5,
   "metadata": {
    "scrolled": true
   },
   "outputs": [
    {
     "data": {
      "text/plain": [
       "['Multi-player',\n",
       " 'Online Multi-Player',\n",
       " 'Local Multi-Player',\n",
       " 'Valve Anti-Cheat enabled',\n",
       " 'Multi-player',\n",
       " 'Online Multi-Player',\n",
       " 'Local Multi-Player',\n",
       " 'Valve Anti-Cheat enabled',\n",
       " 'Multi-player',\n",
       " 'Valve Anti-Cheat enabled']"
      ]
     },
     "execution_count": 5,
     "metadata": {},
     "output_type": "execute_result"
    }
   ],
   "source": [
    "flatten(df.categories[:3])"
   ]
  },
  {
   "cell_type": "code",
   "execution_count": 15,
   "metadata": {},
   "outputs": [],
   "source": [
    "# Вынесем год издания игры в отдельный столбец для удобства\n",
    "df['release_year'] = pd.DatetimeIndex(df['release_date']).year"
   ]
  },
  {
   "cell_type": "code",
   "execution_count": 7,
   "metadata": {},
   "outputs": [
    {
     "data": {
      "text/html": [
       "<div>\n",
       "<style scoped>\n",
       "    .dataframe tbody tr th:only-of-type {\n",
       "        vertical-align: middle;\n",
       "    }\n",
       "\n",
       "    .dataframe tbody tr th {\n",
       "        vertical-align: top;\n",
       "    }\n",
       "\n",
       "    .dataframe thead th {\n",
       "        text-align: right;\n",
       "    }\n",
       "</style>\n",
       "<table border=\"1\" class=\"dataframe\">\n",
       "  <thead>\n",
       "    <tr style=\"text-align: right;\">\n",
       "      <th></th>\n",
       "      <th>release_date</th>\n",
       "      <th>developer</th>\n",
       "      <th>publisher</th>\n",
       "      <th>platforms</th>\n",
       "      <th>categories</th>\n",
       "      <th>genres</th>\n",
       "      <th>steamspy_tags</th>\n",
       "      <th>positive_ratings</th>\n",
       "      <th>negative_ratings</th>\n",
       "      <th>average_playtime</th>\n",
       "      <th>median_playtime</th>\n",
       "      <th>owners</th>\n",
       "      <th>price</th>\n",
       "      <th>release_year</th>\n",
       "    </tr>\n",
       "  </thead>\n",
       "  <tbody>\n",
       "    <tr>\n",
       "      <th>25233</th>\n",
       "      <td>2018-11-23</td>\n",
       "      <td>Playloft</td>\n",
       "      <td>Playloft</td>\n",
       "      <td>windows;mac</td>\n",
       "      <td>Single-player;Steam Achievements</td>\n",
       "      <td>Indie;Simulation</td>\n",
       "      <td>Indie;Simulation;Racing</td>\n",
       "      <td>0</td>\n",
       "      <td>1</td>\n",
       "      <td>0</td>\n",
       "      <td>0</td>\n",
       "      <td>0-20000</td>\n",
       "      <td>4.79</td>\n",
       "      <td>2018</td>\n",
       "    </tr>\n",
       "    <tr>\n",
       "      <th>15813</th>\n",
       "      <td>2017-08-02</td>\n",
       "      <td>Lord of the Stack</td>\n",
       "      <td>Lord of the Stack</td>\n",
       "      <td>windows</td>\n",
       "      <td>Single-player;Steam Achievements;Steam Leaderb...</td>\n",
       "      <td>Violent;Action;Casual;Indie;Sports</td>\n",
       "      <td>Action;Indie;Casual</td>\n",
       "      <td>32</td>\n",
       "      <td>4</td>\n",
       "      <td>0</td>\n",
       "      <td>0</td>\n",
       "      <td>0-20000</td>\n",
       "      <td>1.69</td>\n",
       "      <td>2017</td>\n",
       "    </tr>\n",
       "  </tbody>\n",
       "</table>\n",
       "</div>"
      ],
      "text/plain": [
       "      release_date          developer          publisher    platforms  \\\n",
       "25233   2018-11-23           Playloft           Playloft  windows;mac   \n",
       "15813   2017-08-02  Lord of the Stack  Lord of the Stack      windows   \n",
       "\n",
       "                                              categories  \\\n",
       "25233                   Single-player;Steam Achievements   \n",
       "15813  Single-player;Steam Achievements;Steam Leaderb...   \n",
       "\n",
       "                                   genres            steamspy_tags  \\\n",
       "25233                    Indie;Simulation  Indie;Simulation;Racing   \n",
       "15813  Violent;Action;Casual;Indie;Sports      Action;Indie;Casual   \n",
       "\n",
       "       positive_ratings  negative_ratings  average_playtime  median_playtime  \\\n",
       "25233                 0                 1                 0                0   \n",
       "15813                32                 4                 0                0   \n",
       "\n",
       "        owners  price  release_year  \n",
       "25233  0-20000   4.79          2018  \n",
       "15813  0-20000   1.69          2017  "
      ]
     },
     "execution_count": 7,
     "metadata": {},
     "output_type": "execute_result"
    }
   ],
   "source": [
    "df.sample(2)"
   ]
  },
  {
   "cell_type": "code",
   "execution_count": 16,
   "metadata": {},
   "outputs": [],
   "source": [
    "# Чтобы как-то осмысленно поработать с количеством пользователей,\n",
    "# возьмем верхнюю границу интервала, который приведен в датасете.\n",
    "\n",
    "df.owners = df.owners.str.replace('\\d+-', '')\n",
    "df.owners = pd.to_numeric(df.owners)"
   ]
  },
  {
   "cell_type": "code",
   "execution_count": 9,
   "metadata": {},
   "outputs": [
    {
     "data": {
      "text/html": [
       "<div>\n",
       "<style scoped>\n",
       "    .dataframe tbody tr th:only-of-type {\n",
       "        vertical-align: middle;\n",
       "    }\n",
       "\n",
       "    .dataframe tbody tr th {\n",
       "        vertical-align: top;\n",
       "    }\n",
       "\n",
       "    .dataframe thead th {\n",
       "        text-align: right;\n",
       "    }\n",
       "</style>\n",
       "<table border=\"1\" class=\"dataframe\">\n",
       "  <thead>\n",
       "    <tr style=\"text-align: right;\">\n",
       "      <th></th>\n",
       "      <th>positive_ratings</th>\n",
       "      <th>negative_ratings</th>\n",
       "      <th>average_playtime</th>\n",
       "      <th>median_playtime</th>\n",
       "      <th>owners</th>\n",
       "      <th>price</th>\n",
       "      <th>release_year</th>\n",
       "    </tr>\n",
       "  </thead>\n",
       "  <tbody>\n",
       "    <tr>\n",
       "      <th>positive_ratings</th>\n",
       "      <td>1.000000</td>\n",
       "      <td>0.762804</td>\n",
       "      <td>0.157898</td>\n",
       "      <td>0.035776</td>\n",
       "      <td>0.712447</td>\n",
       "      <td>0.036110</td>\n",
       "      <td>-0.064384</td>\n",
       "    </tr>\n",
       "    <tr>\n",
       "      <th>negative_ratings</th>\n",
       "      <td>0.762804</td>\n",
       "      <td>1.000000</td>\n",
       "      <td>0.161140</td>\n",
       "      <td>0.047887</td>\n",
       "      <td>0.686658</td>\n",
       "      <td>0.051259</td>\n",
       "      <td>-0.034860</td>\n",
       "    </tr>\n",
       "    <tr>\n",
       "      <th>average_playtime</th>\n",
       "      <td>0.157898</td>\n",
       "      <td>0.161140</td>\n",
       "      <td>1.000000</td>\n",
       "      <td>0.914900</td>\n",
       "      <td>0.174142</td>\n",
       "      <td>0.049242</td>\n",
       "      <td>-0.052997</td>\n",
       "    </tr>\n",
       "    <tr>\n",
       "      <th>median_playtime</th>\n",
       "      <td>0.035776</td>\n",
       "      <td>0.047887</td>\n",
       "      <td>0.914900</td>\n",
       "      <td>1.000000</td>\n",
       "      <td>0.035965</td>\n",
       "      <td>0.036610</td>\n",
       "      <td>-0.034508</td>\n",
       "    </tr>\n",
       "    <tr>\n",
       "      <th>owners</th>\n",
       "      <td>0.712447</td>\n",
       "      <td>0.686658</td>\n",
       "      <td>0.174142</td>\n",
       "      <td>0.035965</td>\n",
       "      <td>1.000000</td>\n",
       "      <td>0.031386</td>\n",
       "      <td>-0.143610</td>\n",
       "    </tr>\n",
       "    <tr>\n",
       "      <th>price</th>\n",
       "      <td>0.036110</td>\n",
       "      <td>0.051259</td>\n",
       "      <td>0.049242</td>\n",
       "      <td>0.036610</td>\n",
       "      <td>0.031386</td>\n",
       "      <td>1.000000</td>\n",
       "      <td>-0.057292</td>\n",
       "    </tr>\n",
       "    <tr>\n",
       "      <th>release_year</th>\n",
       "      <td>-0.064384</td>\n",
       "      <td>-0.034860</td>\n",
       "      <td>-0.052997</td>\n",
       "      <td>-0.034508</td>\n",
       "      <td>-0.143610</td>\n",
       "      <td>-0.057292</td>\n",
       "      <td>1.000000</td>\n",
       "    </tr>\n",
       "  </tbody>\n",
       "</table>\n",
       "</div>"
      ],
      "text/plain": [
       "                  positive_ratings  negative_ratings  average_playtime  \\\n",
       "positive_ratings          1.000000          0.762804          0.157898   \n",
       "negative_ratings          0.762804          1.000000          0.161140   \n",
       "average_playtime          0.157898          0.161140          1.000000   \n",
       "median_playtime           0.035776          0.047887          0.914900   \n",
       "owners                    0.712447          0.686658          0.174142   \n",
       "price                     0.036110          0.051259          0.049242   \n",
       "release_year             -0.064384         -0.034860         -0.052997   \n",
       "\n",
       "                  median_playtime    owners     price  release_year  \n",
       "positive_ratings         0.035776  0.712447  0.036110     -0.064384  \n",
       "negative_ratings         0.047887  0.686658  0.051259     -0.034860  \n",
       "average_playtime         0.914900  0.174142  0.049242     -0.052997  \n",
       "median_playtime          1.000000  0.035965  0.036610     -0.034508  \n",
       "owners                   0.035965  1.000000  0.031386     -0.143610  \n",
       "price                    0.036610  0.031386  1.000000     -0.057292  \n",
       "release_year            -0.034508 -0.143610 -0.057292      1.000000  "
      ]
     },
     "execution_count": 9,
     "metadata": {},
     "output_type": "execute_result"
    }
   ],
   "source": [
    "df.corr()"
   ]
  },
  {
   "cell_type": "code",
   "execution_count": null,
   "metadata": {},
   "outputs": [],
   "source": [
    "# Возьмем проработанный датафрейм и соединим с дополнительными данными о тэгах со SteamSpy \n",
    "# в другом файле и сохраним для графиков для следующей лабораторной.\n",
    "\n",
    "_tag_data = pd.read_csv('data/steamspy_tag_data.csv')\n",
    "_df = pd.merge(left=df, right=_tag_data, how='inner', on='appid')  # Было использовано до удаления столбца appid.\n",
    "_df.to_csv('processed.csv')"
   ]
  },
  {
   "cell_type": "markdown",
   "metadata": {},
   "source": [
    "## Проверяем гипотезы"
   ]
  },
  {
   "cell_type": "markdown",
   "metadata": {},
   "source": [
    "### Количество игр на площадке растет экспоненциально"
   ]
  },
  {
   "cell_type": "code",
   "execution_count": 10,
   "metadata": {},
   "outputs": [
    {
     "data": {
      "text/plain": [
       "(array([ 0,  1,  2,  3,  4,  5,  6,  7,  8,  9, 10, 11, 12, 13, 14, 15, 16,\n",
       "        17, 18, 19, 20, 21]),\n",
       " <a list of 22 Text xticklabel objects>)"
      ]
     },
     "execution_count": 10,
     "metadata": {},
     "output_type": "execute_result"
    },
    {
     "data": {
      "image/png": "[encoded data removed]",
      "text/plain": [
       "<Figure size 1080x360 with 1 Axes>"
      ]
     },
     "metadata": {
      "needs_background": "light"
     },
     "output_type": "display_data"
    }
   ],
   "source": [
    "plt.figure(figsize=(15,5))\n",
    "\n",
    "ax = sns.barplot(\n",
    "    x=sorted(set(df.release_year))[:-1],\n",
    "    y=df.groupby('release_year').count().owners[:-1],\n",
    "    palette='Set1'\n",
    ")\n",
    "\n",
    "ax.set(xlabel='Год', ylabel='Количество доступных игр на площадке')\n",
    "plt.xticks(rotation=25, horizontalalignment='center', fontweight='light', fontsize='x-large')"
   ]
  },
  {
   "cell_type": "markdown",
   "metadata": {},
   "source": [
    "Похоже, что мы были правы! Замечание: выкинули последний год, потому что сам датасет собирался в начале 2019."
   ]
  },
  {
   "cell_type": "markdown",
   "metadata": {},
   "source": [
    "### Windows –– самая популярная игровая платформа"
   ]
  },
  {
   "cell_type": "code",
   "execution_count": 11,
   "metadata": {},
   "outputs": [
    {
     "data": {
      "text/plain": [
       "(-1.1032014263468737,\n",
       " 1.1001524756038639,\n",
       " -1.119790740514518,\n",
       " 1.1025829889714132)"
      ]
     },
     "execution_count": 11,
     "metadata": {},
     "output_type": "execute_result"
    },
    {
     "data": {
      "image/png": "[encoded data removed]",
      "text/plain": [
       "<Figure size 1440x720 with 1 Axes>"
      ]
     },
     "metadata": {},
     "output_type": "display_data"
    }
   ],
   "source": [
    "_platforms = collections.Counter(flatten(df.platforms))\n",
    "\n",
    "labels = _platforms.keys()\n",
    "values = _platforms.values()\n",
    "\n",
    "fig, ax = plt.subplots(figsize=(20, 10), subplot_kw=dict(aspect=\"equal\"))\n",
    "\n",
    "_, _, autotexts = plt.pie(values, labels=labels, autopct='%1.1f%%')\n",
    "\n",
    "plt.setp(autotexts, size=14, weight='light')\n",
    "\n",
    "ax.set_title(\"Steam: Distribution by platform\")\n",
    "\n",
    "plt.axis('equal')"
   ]
  },
  {
   "cell_type": "markdown",
   "metadata": {},
   "source": [
    "Действительно, большинство игр выпускается под Windows."
   ]
  },
  {
   "cell_type": "markdown",
   "metadata": {},
   "source": [
    "### Инди –– самый распространенный жанр на площадке"
   ]
  },
  {
   "cell_type": "code",
   "execution_count": 12,
   "metadata": {},
   "outputs": [
    {
     "data": {
      "text/plain": [
       "(-1.1103141330480817,\n",
       " 1.17938500513346,\n",
       " -1.1044951315147813,\n",
       " 1.1596563448362072)"
      ]
     },
     "execution_count": 12,
     "metadata": {},
     "output_type": "execute_result"
    },
    {
     "data": {
      "image/png": "[encoded data removed]",
      "text/plain": [
       "<Figure size 1440x720 with 1 Axes>"
      ]
     },
     "metadata": {},
     "output_type": "display_data"
    }
   ],
   "source": [
    "_genres = collections.Counter(flatten(df.genres))\n",
    "\n",
    "# Отберем топ-5 жанров.\n",
    "_top_genres = _genres.most_common(5)\n",
    "\n",
    "# Остальные сгруппируем и добавим как \"Other\".\n",
    "labels = [name for name, _ in _top_genres] + ['Other']\n",
    "values = [count for _, count in _top_genres] + [sum(list(_genres.values())[5:])]\n",
    "\n",
    "fig, ax = plt.subplots(figsize=(20, 10), subplot_kw=dict(aspect=\"equal\"))\n",
    "\n",
    "wedges, texts, autotexts = plt.pie(values, labels=labels, \n",
    "                                   autopct='%1.1f%%', explode=[0.1] + [0 for _ in range(len(values) - 1)])\n",
    "\n",
    "plt.setp(autotexts, size=14, weight=\"light\")\n",
    "\n",
    "ax.set_title(\"Steam: Distribution by genre\")\n",
    "\n",
    "plt.axis('equal')"
   ]
  },
  {
   "cell_type": "markdown",
   "metadata": {},
   "source": [
    "Итак, больше всего игр на площадке от **независимых разработчиков (больше 20\\%)**, что неудивительно, учитывая что взнос за публикацию игры составляет всего $100 при таких масштабах аудитории, как в Steam. Затем следуют игры в жанрах **Экшн (14\\%)**, **Казуальная и Приключенческая (12\\%)**, и **Стратегия (6\\%)**. **Оставшаяся треть** жанров состоит из категорий, по отдельности составляющих менее 5\\% от всех жанров, так что мы их не покажем."
   ]
  }
 ],
 "metadata": {
  "kernelspec": {
   "display_name": "Python 3",
   "language": "python",
   "name": "python3"
  },
  "language_info": {
   "codemirror_mode": {
    "name": "ipython",
    "version": 3
   },
   "file_extension": ".py",
   "mimetype": "text/x-python",
   "name": "python",
   "nbconvert_exporter": "python",
   "pygments_lexer": "ipython3",
   "version": "3.8.1"
  }
 },
 "nbformat": 4,
 "nbformat_minor": 4
}
